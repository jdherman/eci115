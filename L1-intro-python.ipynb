{
 "cells": [
  {
   "cell_type": "markdown",
   "metadata": {},
   "source": [
    "#### Intro to Scientific Python"
   ]
  },
  {
   "cell_type": "markdown",
   "metadata": {},
   "source": [
    "Jupyter notebooks contain text cells and code cells. You can add new cells and change the cell type in the menu above. \n",
    "\n",
    "Text cells can use Markdown formatting for headers, math, etc. Math notation is based on TeX, for example $A^b_c$.\n",
    "\n",
    "To execute a cell, click Run in the menu above, or Shift+Enter."
   ]
  },
  {
   "cell_type": "code",
   "execution_count": 1,
   "metadata": {},
   "outputs": [
    {
     "name": "stdout",
     "output_type": "stream",
     "text": [
      "Hello World!\n"
     ]
    }
   ],
   "source": [
    "# comment\n",
    "print('Hello World!')"
   ]
  },
  {
   "cell_type": "markdown",
   "metadata": {},
   "source": [
    "#### Variables"
   ]
  },
  {
   "cell_type": "code",
   "execution_count": 2,
   "metadata": {},
   "outputs": [
    {
     "name": "stdout",
     "output_type": "stream",
     "text": [
      "3.7\n",
      "<class 'float'>\n"
     ]
    }
   ],
   "source": [
    "A = 5\n",
    "B = 3.7\n",
    "C = 'text'\n",
    "# types are inferred. Check with type(A)\n",
    "print(B)\n",
    "print(type(B))"
   ]
  },
  {
   "cell_type": "markdown",
   "metadata": {},
   "source": [
    "#### Python has two main data structures: lists and dictionaries"
   ]
  },
  {
   "cell_type": "markdown",
   "metadata": {},
   "source": [
    "__List:__ items in order"
   ]
  },
  {
   "cell_type": "code",
   "execution_count": 3,
   "metadata": {},
   "outputs": [],
   "source": [
    "foods = ['apple', 'bananas', 'coconut', 'date', 'eggplant']"
   ]
  },
  {
   "cell_type": "code",
   "execution_count": 4,
   "metadata": {},
   "outputs": [
    {
     "name": "stdout",
     "output_type": "stream",
     "text": [
      "apple\n"
     ]
    }
   ],
   "source": [
    "print(foods[0]) # index with integer starting at 0"
   ]
  },
  {
   "cell_type": "code",
   "execution_count": 5,
   "metadata": {},
   "outputs": [
    {
     "name": "stdout",
     "output_type": "stream",
     "text": [
      "5\n"
     ]
    }
   ],
   "source": [
    "print(len(foods)) # length"
   ]
  },
  {
   "cell_type": "markdown",
   "metadata": {},
   "source": [
    "__Dictionary:__ key-value pairs"
   ]
  },
  {
   "cell_type": "code",
   "execution_count": 6,
   "metadata": {},
   "outputs": [],
   "source": [
    "cost = {'apple': 0.50, 'banana': 0.30}"
   ]
  },
  {
   "cell_type": "code",
   "execution_count": 7,
   "metadata": {},
   "outputs": [
    {
     "name": "stdout",
     "output_type": "stream",
     "text": [
      "0.5\n"
     ]
    }
   ],
   "source": [
    "print(cost['apple']) # index with key (string)"
   ]
  },
  {
   "cell_type": "markdown",
   "metadata": {},
   "source": [
    "#### Arrays and Matrices\n",
    "**Important:** We will not be using lists and dictionaries much in this class. Our main data structures will be arrays and matrices using the Numpy library."
   ]
  },
  {
   "cell_type": "code",
   "execution_count": 8,
   "metadata": {
    "ExecuteTime": {
     "end_time": "2020-03-15T04:08:33.729682Z",
     "start_time": "2020-03-15T04:08:33.709263Z"
    }
   },
   "outputs": [
    {
     "name": "stdout",
     "output_type": "stream",
     "text": [
      "[3.1 3.2 3.3]\n",
      "<class 'numpy.ndarray'>\n"
     ]
    }
   ],
   "source": [
    "import numpy as np # import library and assign standard short name\n",
    "\n",
    "# create a 1-D array             \n",
    "x = np.array([3.1, 3.2, 3.3])\n",
    "print(x)\n",
    "print(type(x)) # confirm numpy array, not list"
   ]
  },
  {
   "cell_type": "code",
   "execution_count": 9,
   "metadata": {
    "ExecuteTime": {
     "end_time": "2020-03-15T04:08:33.729682Z",
     "start_time": "2020-03-15T04:08:33.709263Z"
    }
   },
   "outputs": [
    {
     "name": "stdout",
     "output_type": "stream",
     "text": [
      "[[3.1 3.2 3.3]\n",
      " [4.1 4.2 4.3]\n",
      " [5.1 5.2 5.3]\n",
      " [6.1 6.2 6.3]]\n"
     ]
    }
   ],
   "source": [
    "# create a 2-D matrix\n",
    "x = np.array([[3.1, 3.2, 3.3],[4.1, 4.2, 4.3],[5.1, 5.2, 5.3],[6.1, 6.2, 6.3]])\n",
    "print(x)"
   ]
  },
  {
   "cell_type": "markdown",
   "metadata": {
    "ExecuteTime": {
     "end_time": "2020-03-15T04:08:33.729682Z",
     "start_time": "2020-03-15T04:08:33.709263Z"
    }
   },
   "source": [
    "##### Matrix indexing examples `[row, column]` starting at 0\n",
    "Similar to Matlab. Python lists do not work this way."
   ]
  },
  {
   "cell_type": "code",
   "execution_count": 10,
   "metadata": {
    "ExecuteTime": {
     "end_time": "2020-03-15T04:08:33.729682Z",
     "start_time": "2020-03-15T04:08:33.709263Z"
    }
   },
   "outputs": [
    {
     "name": "stdout",
     "output_type": "stream",
     "text": [
      "3.1\n"
     ]
    }
   ],
   "source": [
    "print(x[0,0])"
   ]
  },
  {
   "cell_type": "code",
   "execution_count": 11,
   "metadata": {
    "ExecuteTime": {
     "end_time": "2020-03-15T04:08:33.729682Z",
     "start_time": "2020-03-15T04:08:33.709263Z"
    }
   },
   "outputs": [
    {
     "name": "stdout",
     "output_type": "stream",
     "text": [
      "[3.1 4.1 5.1 6.1]\n"
     ]
    }
   ],
   "source": [
    "print(x[:,0]) # all rows, first column"
   ]
  },
  {
   "cell_type": "code",
   "execution_count": 12,
   "metadata": {
    "ExecuteTime": {
     "end_time": "2020-03-15T04:08:33.729682Z",
     "start_time": "2020-03-15T04:08:33.709263Z"
    }
   },
   "outputs": [
    {
     "name": "stdout",
     "output_type": "stream",
     "text": [
      "[[4.1 4.2 4.3]\n",
      " [5.1 5.2 5.3]]\n"
     ]
    }
   ],
   "source": [
    "print(x[1:3,:]) # slice rows 1:3 (does not include 3), all columns"
   ]
  },
  {
   "cell_type": "code",
   "execution_count": 13,
   "metadata": {
    "ExecuteTime": {
     "end_time": "2020-03-15T04:08:33.729682Z",
     "start_time": "2020-03-15T04:08:33.709263Z"
    }
   },
   "outputs": [
    {
     "name": "stdout",
     "output_type": "stream",
     "text": [
      "[[3.1 3.2]\n",
      " [4.1 4.2]\n",
      " [5.1 5.2]]\n"
     ]
    }
   ],
   "source": [
    "# in general, slicing syntax is [start:stop:step]\n",
    "# defaults if omitted: start=0, stop=N, step=1 \n",
    "print(x[:3,:2]) # rows up to 3, columns up to 2"
   ]
  },
  {
   "cell_type": "code",
   "execution_count": 14,
   "metadata": {
    "ExecuteTime": {
     "end_time": "2020-03-15T04:08:33.729682Z",
     "start_time": "2020-03-15T04:08:33.709263Z"
    }
   },
   "outputs": [
    {
     "name": "stdout",
     "output_type": "stream",
     "text": [
      "6.3\n"
     ]
    }
   ],
   "source": [
    "# negative indexing is allowed\n",
    "print(x[-1,-1]) # last row last column"
   ]
  },
  {
   "cell_type": "code",
   "execution_count": 15,
   "metadata": {
    "ExecuteTime": {
     "end_time": "2020-03-15T04:08:33.729682Z",
     "start_time": "2020-03-15T04:08:33.709263Z"
    }
   },
   "outputs": [
    {
     "name": "stdout",
     "output_type": "stream",
     "text": [
      "[5.1 5.2 5.3 6.1 6.2 6.3]\n"
     ]
    }
   ],
   "source": [
    "print(x[x > 5]) # logical indexing"
   ]
  },
  {
   "cell_type": "code",
   "execution_count": 16,
   "metadata": {},
   "outputs": [
    {
     "name": "stdout",
     "output_type": "stream",
     "text": [
      "[[  3.1   3.2   3.3]\n",
      " [  4.1 100.    4.3]\n",
      " [  5.1   5.2   5.3]\n",
      " [  6.1   6.2   6.3]]\n"
     ]
    }
   ],
   "source": [
    "# indexing for assignment\n",
    "x[1,1] = 100\n",
    "print(x)"
   ]
  },
  {
   "cell_type": "code",
   "execution_count": 17,
   "metadata": {},
   "outputs": [],
   "source": [
    "# print(x[1,4]) # index out of bounds error"
   ]
  },
  {
   "cell_type": "markdown",
   "metadata": {
    "ExecuteTime": {
     "end_time": "2020-03-15T04:08:33.729682Z",
     "start_time": "2020-03-15T04:08:33.709263Z"
    }
   },
   "source": [
    "##### Other useful array/matrix functions"
   ]
  },
  {
   "cell_type": "code",
   "execution_count": 18,
   "metadata": {
    "ExecuteTime": {
     "end_time": "2020-03-15T04:08:33.729682Z",
     "start_time": "2020-03-15T04:08:33.709263Z"
    }
   },
   "outputs": [
    {
     "name": "stdout",
     "output_type": "stream",
     "text": [
      "(4, 3)\n"
     ]
    }
   ],
   "source": [
    "# shape of matrix\n",
    "print(x.shape)"
   ]
  },
  {
   "cell_type": "code",
   "execution_count": 19,
   "metadata": {
    "ExecuteTime": {
     "end_time": "2020-03-15T04:08:33.729682Z",
     "start_time": "2020-03-15T04:08:33.709263Z"
    }
   },
   "outputs": [
    {
     "name": "stdout",
     "output_type": "stream",
     "text": [
      "[[  3.1   4.1   5.1   6.1]\n",
      " [  3.2 100.    5.2   6.2]\n",
      " [  3.3   4.3   5.3   6.3]]\n"
     ]
    }
   ],
   "source": [
    "# matrix transpose\n",
    "print(x.T)"
   ]
  },
  {
   "cell_type": "code",
   "execution_count": 20,
   "metadata": {
    "ExecuteTime": {
     "end_time": "2020-03-15T04:08:33.729682Z",
     "start_time": "2020-03-15T04:08:33.709263Z"
    }
   },
   "outputs": [
    {
     "name": "stdout",
     "output_type": "stream",
     "text": [
      "[ 1  4  7 10 13 16 19]\n"
     ]
    }
   ],
   "source": [
    "# create array from range of values\n",
    "# this overwrites the variable x\n",
    "x = np.arange(1,20,3) # array range: start, stop, step\n",
    "print(x)"
   ]
  },
  {
   "cell_type": "code",
   "execution_count": 21,
   "metadata": {
    "ExecuteTime": {
     "end_time": "2020-03-15T04:08:33.729682Z",
     "start_time": "2020-03-15T04:08:33.709263Z"
    }
   },
   "outputs": [
    {
     "name": "stdout",
     "output_type": "stream",
     "text": [
      "[[0. 0. 0.]\n",
      " [0. 0. 0.]]\n"
     ]
    }
   ],
   "source": [
    "x = np.zeros((2,3)) # matrix of zeros\n",
    "print(x)"
   ]
  },
  {
   "cell_type": "code",
   "execution_count": 22,
   "metadata": {
    "ExecuteTime": {
     "end_time": "2020-03-15T04:08:33.729682Z",
     "start_time": "2020-03-15T04:08:33.709263Z"
    }
   },
   "outputs": [
    {
     "name": "stdout",
     "output_type": "stream",
     "text": [
      "[[1. 1. 1.]\n",
      " [1. 1. 1.]]\n"
     ]
    }
   ],
   "source": [
    "x = np.ones((2,3)) # matrix of ones\n",
    "print(x)"
   ]
  },
  {
   "cell_type": "code",
   "execution_count": 23,
   "metadata": {
    "ExecuteTime": {
     "end_time": "2020-03-15T04:08:33.729682Z",
     "start_time": "2020-03-15T04:08:33.709263Z"
    }
   },
   "outputs": [
    {
     "name": "stdout",
     "output_type": "stream",
     "text": [
      "6.0\n"
     ]
    }
   ],
   "source": [
    "print(x.sum()) # sum over all values (also mean(), max(), min())"
   ]
  },
  {
   "cell_type": "code",
   "execution_count": 24,
   "metadata": {
    "ExecuteTime": {
     "end_time": "2020-03-15T04:08:33.729682Z",
     "start_time": "2020-03-15T04:08:33.709263Z"
    }
   },
   "outputs": [
    {
     "name": "stdout",
     "output_type": "stream",
     "text": [
      "[2. 2. 2.]\n"
     ]
    }
   ],
   "source": [
    "print(x.sum(axis=0)) # sum over rows - returns value for each column"
   ]
  },
  {
   "cell_type": "markdown",
   "metadata": {
    "ExecuteTime": {
     "end_time": "2020-03-15T04:08:35.792293Z",
     "start_time": "2020-03-15T04:08:35.768333Z"
    }
   },
   "source": [
    "##### Matrix math"
   ]
  },
  {
   "cell_type": "code",
   "execution_count": 25,
   "metadata": {
    "ExecuteTime": {
     "end_time": "2020-03-15T04:08:35.792293Z",
     "start_time": "2020-03-15T04:08:35.768333Z"
    }
   },
   "outputs": [
    {
     "name": "stdout",
     "output_type": "stream",
     "text": [
      "[[1. 1. 1.]\n",
      " [1. 1. 1.]\n",
      " [1. 1. 1.]]\n",
      "[[3. 3. 3.]\n",
      " [3. 3. 3.]\n",
      " [3. 3. 3.]]\n"
     ]
    }
   ],
   "source": [
    "m1 = np.ones((3,3))\n",
    "m2 = 3*np.ones((3,3))\n",
    "print(m1)\n",
    "print(m2)"
   ]
  },
  {
   "cell_type": "code",
   "execution_count": 26,
   "metadata": {
    "ExecuteTime": {
     "end_time": "2020-03-15T04:08:35.792293Z",
     "start_time": "2020-03-15T04:08:35.768333Z"
    }
   },
   "outputs": [
    {
     "name": "stdout",
     "output_type": "stream",
     "text": [
      "[[3. 3. 3.]\n",
      " [3. 3. 3.]\n",
      " [3. 3. 3.]]\n"
     ]
    }
   ],
   "source": [
    "print(m1 * m2) # elementwise multiplication (Matlab .*)"
   ]
  },
  {
   "cell_type": "code",
   "execution_count": 27,
   "metadata": {
    "ExecuteTime": {
     "end_time": "2020-03-15T04:08:35.792293Z",
     "start_time": "2020-03-15T04:08:35.768333Z"
    }
   },
   "outputs": [
    {
     "name": "stdout",
     "output_type": "stream",
     "text": [
      "[[9. 9. 9.]\n",
      " [9. 9. 9.]\n",
      " [9. 9. 9.]]\n"
     ]
    }
   ],
   "source": [
    "print(m1 @ m2) # matrix multiplication (Matlab *)"
   ]
  },
  {
   "cell_type": "code",
   "execution_count": 28,
   "metadata": {
    "ExecuteTime": {
     "end_time": "2020-03-15T04:08:35.792293Z",
     "start_time": "2020-03-15T04:08:35.768333Z"
    }
   },
   "outputs": [
    {
     "name": "stdout",
     "output_type": "stream",
     "text": [
      "[[0.33333333 0.33333333 0.33333333]\n",
      " [0.33333333 0.33333333 0.33333333]\n",
      " [0.33333333 0.33333333 0.33333333]]\n"
     ]
    }
   ],
   "source": [
    "print(m1 / m2) # elementwise division"
   ]
  },
  {
   "cell_type": "code",
   "execution_count": 29,
   "metadata": {
    "ExecuteTime": {
     "end_time": "2020-03-15T04:08:35.792293Z",
     "start_time": "2020-03-15T04:08:35.768333Z"
    }
   },
   "outputs": [
    {
     "name": "stdout",
     "output_type": "stream",
     "text": [
      "[[4. 4. 4.]\n",
      " [4. 4. 4.]\n",
      " [4. 4. 4.]]\n"
     ]
    }
   ],
   "source": [
    "print(m1 + m2) # elementwise addition (- for subtraction)"
   ]
  },
  {
   "cell_type": "code",
   "execution_count": 30,
   "metadata": {
    "ExecuteTime": {
     "end_time": "2020-03-15T04:08:35.792293Z",
     "start_time": "2020-03-15T04:08:35.768333Z"
    }
   },
   "outputs": [
    {
     "name": "stdout",
     "output_type": "stream",
     "text": [
      "[[9. 9. 9.]\n",
      " [9. 9. 9.]\n",
      " [9. 9. 9.]]\n"
     ]
    }
   ],
   "source": [
    "print(m2 ** 2) # elementwise power (Matlab ^)"
   ]
  },
  {
   "cell_type": "markdown",
   "metadata": {
    "ExecuteTime": {
     "end_time": "2020-03-15T04:08:53.995695Z",
     "start_time": "2020-03-15T04:08:53.959742Z"
    }
   },
   "source": [
    "#### If statements\n",
    "- indentation matters!\n",
    "- `elif` for \"else if\"\n"
   ]
  },
  {
   "cell_type": "code",
   "execution_count": 31,
   "metadata": {
    "ExecuteTime": {
     "end_time": "2020-03-15T04:08:53.995695Z",
     "start_time": "2020-03-15T04:08:53.959742Z"
    }
   },
   "outputs": [
    {
     "name": "stdout",
     "output_type": "stream",
     "text": [
      "less than 10\n"
     ]
    }
   ],
   "source": [
    "x = 4\n",
    "\n",
    "if x < 10:\n",
    "    print('less than 10')\n",
    "else:\n",
    "    print('greater than 10')\n"
   ]
  },
  {
   "cell_type": "markdown",
   "metadata": {
    "ExecuteTime": {
     "end_time": "2020-03-15T04:08:53.995695Z",
     "start_time": "2020-03-15T04:08:53.959742Z"
    }
   },
   "source": [
    "#### Loops"
   ]
  },
  {
   "cell_type": "code",
   "execution_count": 32,
   "metadata": {
    "ExecuteTime": {
     "end_time": "2020-03-15T04:08:53.995695Z",
     "start_time": "2020-03-15T04:08:53.959742Z"
    }
   },
   "outputs": [
    {
     "name": "stdout",
     "output_type": "stream",
     "text": [
      "[[0. 1. 2. 3. 4.]\n",
      " [1. 2. 3. 4. 5.]\n",
      " [2. 3. 4. 5. 6.]]\n"
     ]
    }
   ],
   "source": [
    "# loop over matrix and assign values\n",
    "M = np.zeros((3,5))\n",
    "\n",
    "for i in range(3):\n",
    "    for j in range(5):\n",
    "        M[i,j] = i + j\n",
    "        \n",
    "print(M)"
   ]
  },
  {
   "cell_type": "code",
   "execution_count": 33,
   "metadata": {
    "ExecuteTime": {
     "end_time": "2020-03-15T04:08:53.995695Z",
     "start_time": "2020-03-15T04:08:53.959742Z"
    }
   },
   "outputs": [
    {
     "name": "stdout",
     "output_type": "stream",
     "text": [
      "0.009697737297875247\n",
      "x = 0.0097\n",
      "iterations =  45\n"
     ]
    }
   ],
   "source": [
    "# while loop\n",
    "# we'll often use these to loop until error is within tolerance\n",
    "\n",
    "x = 1\n",
    "count = 1\n",
    "\n",
    "while x > 0.01:\n",
    "    x = x * 0.9\n",
    "    count = count + 1\n",
    "\n",
    "print(x)\n",
    "print('x = %0.4f' % x) # format to four decimal places\n",
    "print('iterations = ', count)"
   ]
  },
  {
   "cell_type": "markdown",
   "metadata": {},
   "source": [
    "#### `matplotlib`: library for plotting\n",
    "The DPI setting increases the figure resolution in JupyterLab.\n",
    "This is not needed if running from a `.py` script."
   ]
  },
  {
   "cell_type": "code",
   "execution_count": 34,
   "metadata": {},
   "outputs": [],
   "source": [
    "import matplotlib.pyplot as plt\n",
    "plt.rcParams['figure.dpi'] = 300"
   ]
  },
  {
   "cell_type": "code",
   "execution_count": 35,
   "metadata": {
    "tags": []
   },
   "outputs": [
    {
     "name": "stdout",
     "output_type": "stream",
     "text": [
      "[ 0  1  2  3  4  5  6  7  8  9 10 11 12 13 14 15 16 17 18 19 20 21 22 23\n",
      " 24 25 26 27 28 29 30 31 32 33 34 35 36 37 38 39 40 41 42 43 44 45 46 47\n",
      " 48 49 50 51 52 53 54 55 56 57 58 59 60 61 62 63 64 65 66 67 68 69 70 71\n",
      " 72 73 74 75 76 77 78 79 80 81 82 83 84 85 86 87 88 89 90 91 92 93 94 95\n",
      " 96 97 98 99]\n",
      "[0.65964997 0.35321741 0.60104265 0.76152508 0.82403511 0.22881951\n",
      " 0.4670188  0.15814922 0.13870569 0.8408864  0.69889588 0.07731953\n",
      " 0.12577405 0.63558019 0.69499912 0.71064837 0.39400364 0.30359179\n",
      " 0.35552113 0.1381068  0.08225827 0.06793174 0.93312699 0.83062568\n",
      " 0.03158479 0.35100114 0.87271839 0.79654314 0.20728688 0.63395167\n",
      " 0.7847075  0.04502322 0.68996424 0.39762541 0.52489423 0.18165549\n",
      " 0.70043333 0.99566323 0.52737149 0.45129559 0.13509505 0.89936322\n",
      " 0.50662442 0.14548443 0.14827568 0.97427801 0.13078111 0.43879732\n",
      " 0.34058743 0.01144423 0.22854197 0.82722205 0.22852111 0.4889133\n",
      " 0.23713551 0.35615147 0.78768896 0.5558314  0.31537839 0.46139898\n",
      " 0.39447877 0.17073139 0.92029759 0.34135217 0.23045551 0.83829847\n",
      " 0.20641706 0.25940452 0.04661164 0.54778472 0.44117044 0.9932065\n",
      " 0.89798886 0.27633047 0.75797979 0.51547838 0.39847134 0.57953249\n",
      " 0.90502293 0.44944711 0.76384548 0.02487606 0.61886192 0.47680508\n",
      " 0.04922279 0.05205393 0.40459717 0.00859086 0.47118825 0.94010395\n",
      " 0.74517395 0.99842997 0.78156752 0.44070682 0.03480498 0.46993458\n",
      " 0.2819744  0.7438202  0.07666682 0.10793303]\n"
     ]
    }
   ],
   "source": [
    "N = 100 # number of points\n",
    "x = np.arange(N)\n",
    "y = np.random.rand(N) # random values between 0 and 1\n",
    "print(x)\n",
    "print(y)"
   ]
  },
  {
   "cell_type": "code",
   "execution_count": 36,
   "metadata": {
    "tags": []
   },
   "outputs": [
    {
     "data": {
      "image/png": "[encoded data removed]",
      "text/plain": [
       "<Figure size 1800x1200 with 1 Axes>"
      ]
     },
     "metadata": {
      "needs_background": "light"
     },
     "output_type": "display_data"
    }
   ],
   "source": [
    "plt.plot(x, y, color='red', linewidth=2)\n",
    "plt.xlabel('X (units)')\n",
    "plt.ylabel('Y (units)')\n",
    "plt.title('My Title')\n",
    "plt.grid(True)"
   ]
  },
  {
   "cell_type": "markdown",
   "metadata": {},
   "source": [
    "#### Clearing variables\n",
    "Variables are stored after running each cell. This is usually a good thing, but can also lead to bugs - for example if we are working on multiple problems in the same notebook that use the same variable name. A few of the menu options can help:\n",
    "\n",
    "- `Edit > Clear All Output` will delete the cell output, but not the variables\n",
    "- `Run > Restart Kernel and run all cells` will delete the variables and run everything from scratch\n",
    "\n",
    "Another option is to include the command `%reset` in between problems. By default, it will ask for user confirmation. To force reset without confirmation, include the `-f` flag."
   ]
  },
  {
   "cell_type": "code",
   "execution_count": 37,
   "metadata": {},
   "outputs": [
    {
     "name": "stdout",
     "output_type": "stream",
     "text": [
      "[ 0  1  2  3  4  5  6  7  8  9 10 11 12 13 14 15 16 17 18 19 20 21 22 23\n",
      " 24 25 26 27 28 29 30 31 32 33 34 35 36 37 38 39 40 41 42 43 44 45 46 47\n",
      " 48 49 50 51 52 53 54 55 56 57 58 59 60 61 62 63 64 65 66 67 68 69 70 71\n",
      " 72 73 74 75 76 77 78 79 80 81 82 83 84 85 86 87 88 89 90 91 92 93 94 95\n",
      " 96 97 98 99]\n"
     ]
    }
   ],
   "source": [
    "print(x) # this variable is still stored from above"
   ]
  },
  {
   "cell_type": "code",
   "execution_count": 38,
   "metadata": {},
   "outputs": [
    {
     "ename": "NameError",
     "evalue": "name 'x' is not defined",
     "output_type": "error",
     "traceback": [
      "\u001b[0;31m---------------------------------------------------------------------------\u001b[0m",
      "\u001b[0;31mNameError\u001b[0m                                 Traceback (most recent call last)",
      "Input \u001b[0;32mIn [38]\u001b[0m, in \u001b[0;36m<cell line: 2>\u001b[0;34m()\u001b[0m\n\u001b[1;32m      1\u001b[0m get_ipython()\u001b[38;5;241m.\u001b[39mrun_line_magic(\u001b[38;5;124m'\u001b[39m\u001b[38;5;124mreset\u001b[39m\u001b[38;5;124m'\u001b[39m, \u001b[38;5;124m'\u001b[39m\u001b[38;5;124m-f\u001b[39m\u001b[38;5;124m'\u001b[39m)\n\u001b[0;32m----> 2\u001b[0m \u001b[38;5;28mprint\u001b[39m(\u001b[43mx\u001b[49m)\n",
      "\u001b[0;31mNameError\u001b[0m: name 'x' is not defined"
     ]
    }
   ],
   "source": [
    "%reset -f\n",
    "print(x)"
   ]
  },
  {
   "cell_type": "code",
   "execution_count": null,
   "metadata": {},
   "outputs": [],
   "source": []
  }
 ],
 "metadata": {
  "hide_input": false,
  "kernelspec": {
   "display_name": "Python 3 (ipykernel)",
   "language": "python",
   "name": "python3"
  },
  "language_info": {
   "codemirror_mode": {
    "name": "ipython",
    "version": 3
   },
   "file_extension": ".py",
   "mimetype": "text/x-python",
   "name": "python",
   "nbconvert_exporter": "python",
   "pygments_lexer": "ipython3",
   "version": "3.9.12"
  },
  "latex_envs": {
   "LaTeX_envs_menu_present": true,
   "autoclose": false,
   "autocomplete": true,
   "bibliofile": "biblio.bib",
   "cite_by": "apalike",
   "current_citInitial": 1,
   "eqLabelWithNumbers": true,
   "eqNumInitial": 1,
   "hotkeys": {
    "equation": "Ctrl-E",
    "itemize": "Ctrl-I"
   },
   "labels_anchors": false,
   "latex_user_defs": false,
   "report_style_numbering": false,
   "user_envs_cfg": false
  },
  "toc": {
   "base_numbering": 1,
   "nav_menu": {},
   "number_sections": true,
   "sideBar": true,
   "skip_h1_title": false,
   "title_cell": "Table of Contents",
   "title_sidebar": "Contents",
   "toc_cell": false,
   "toc_position": {},
   "toc_section_display": true,
   "toc_window_display": false
  },
  "varInspector": {
   "cols": {
    "lenName": "40",
    "lenType": 16,
    "lenVar": "100"
   },
   "kernels_config": {
    "python": {
     "delete_cmd_postfix": "",
     "delete_cmd_prefix": "del ",
     "library": "var_list.py",
     "varRefreshCmd": "print(var_dic_list())"
    },
    "r": {
     "delete_cmd_postfix": ") ",
     "delete_cmd_prefix": "rm(",
     "library": "var_list.r",
     "varRefreshCmd": "cat(var_dic_list()) "
    }
   },
   "types_to_exclude": [
    "module",
    "function",
    "builtin_function_or_method",
    "instance",
    "_Feature"
   ],
   "window_display": false
  }
 },
 "nbformat": 4,
 "nbformat_minor": 4
}
