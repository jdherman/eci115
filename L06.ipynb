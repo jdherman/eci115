{
 "cells": [
  {
   "cell_type": "markdown",
   "metadata": {},
   "source": [
    "#### Lecture 6 - Linear systems\n",
    "\n",
    "Matrix from C&C Case Study 12.1 - system of 5 reactors with unknown concentrations.\n",
    "\n",
    "- Check if singular using determinant\n",
    "- Perform LU decomposition without partial pivoting\n",
    "- Compare to scipy.linalg.lu\n",
    "- Solve for unknowns and compare to scipy.linalg.solve\n",
    "- Change b (new concentration inputs) and solve again without repeating the row elimination"
   ]
  },
  {
   "cell_type": "code",
   "execution_count": 1,
   "metadata": {},
   "outputs": [
    {
     "name": "stdout",
     "output_type": "stream",
     "text": [
      "(5, 5)\n",
      "(5,)\n"
     ]
    }
   ],
   "source": [
    "import numpy as np\n",
    "import scipy.linalg as sl\n",
    "\n",
    "A = np.array([[6, 0, -1, 0, 0],\n",
    "              [-3, 3, 0, 0, 0],\n",
    "              [0, -1, 9, 0, 0],\n",
    "              [0, -1, -8, 11, -2],\n",
    "              [-3, -1, 0, 0, 4]])\n",
    "\n",
    "b = np.array([50, 0, 160, 0, 0]).T\n",
    "\n",
    "print(A.shape) # check dimensions of array\n",
    "print(b.shape)\n",
    "n = A.shape[0]"
   ]
  },
  {
   "cell_type": "code",
   "execution_count": 2,
   "metadata": {},
   "outputs": [
    {
     "name": "stdout",
     "output_type": "stream",
     "text": [
      "int64\n",
      "float64\n"
     ]
    }
   ],
   "source": [
    "# the values are entered as ints, change to floats\n",
    "print(A.dtype)\n",
    "A = A.astype(float)\n",
    "b = b.astype(float)\n",
    "print(A.dtype)"
   ]
  },
  {
   "cell_type": "code",
   "execution_count": 3,
   "metadata": {},
   "outputs": [
    {
     "data": {
      "text/plain": [
       "np.float64(6996.0)"
      ]
     },
     "execution_count": 3,
     "metadata": {},
     "output_type": "execute_result"
    }
   ],
   "source": [
    "# check for singular matrix (det = 0)\n",
    "sl.det(A)"
   ]
  },
  {
   "cell_type": "code",
   "execution_count": 4,
   "metadata": {},
   "outputs": [],
   "source": [
    "# LU decomposition\n",
    "# this does not include partial pivoting and may encounter divide by zero errors\n",
    "# see C&C Figure 10.2 for pseudocode for LU with partial pivoting\n",
    "U = A.copy()\n",
    "L = np.eye(n)\n",
    "\n",
    "for k in range(n-1):\n",
    "    for i in range(k+1,n): \n",
    "        L[i,k] = U[i,k] / U[k,k] # multiplying factor\n",
    "        U[i,:] = U[i,:] - L[i,k] * U[k,:] # modify row i based on pivot row k"
   ]
  },
  {
   "cell_type": "code",
   "execution_count": 5,
   "metadata": {},
   "outputs": [
    {
     "name": "stdout",
     "output_type": "stream",
     "text": [
      "[[ 1.     0.     0.     0.     0.   ]\n",
      " [-0.5    1.     0.     0.     0.   ]\n",
      " [ 0.    -0.333  1.     0.     0.   ]\n",
      " [ 0.    -0.333 -0.925  1.     0.   ]\n",
      " [-0.5   -0.333 -0.075  0.     1.   ]]\n"
     ]
    }
   ],
   "source": [
    "# check answers\n",
    "# set precision for printing - easier to compare matrices\n",
    "# suppress=True turns off scientific notation for small numbers\n",
    "np.set_printoptions(precision=3, suppress=True)\n",
    "print(L)"
   ]
  },
  {
   "cell_type": "code",
   "execution_count": 6,
   "metadata": {},
   "outputs": [
    {
     "name": "stdout",
     "output_type": "stream",
     "text": [
      "[[ 6.     0.    -1.     0.     0.   ]\n",
      " [ 0.     3.    -0.5    0.     0.   ]\n",
      " [ 0.     0.     8.833  0.     0.   ]\n",
      " [ 0.     0.     0.    11.    -2.   ]\n",
      " [ 0.     0.     0.     0.     4.   ]]\n"
     ]
    }
   ],
   "source": [
    "print(U)"
   ]
  },
  {
   "cell_type": "code",
   "execution_count": 7,
   "metadata": {},
   "outputs": [
    {
     "name": "stdout",
     "output_type": "stream",
     "text": [
      "[[ 6.  0. -1.  0.  0.]\n",
      " [-3.  3.  0.  0.  0.]\n",
      " [ 0. -1.  9.  0.  0.]\n",
      " [ 0. -1. -8. 11. -2.]\n",
      " [-3. -1.  0.  0.  4.]]\n"
     ]
    }
   ],
   "source": [
    "print(A)"
   ]
  },
  {
   "cell_type": "code",
   "execution_count": 8,
   "metadata": {},
   "outputs": [
    {
     "name": "stdout",
     "output_type": "stream",
     "text": [
      "[[ 6.  0. -1.  0.  0.]\n",
      " [-3.  3.  0.  0.  0.]\n",
      " [ 0. -1.  9.  0.  0.]\n",
      " [ 0. -1. -8. 11. -2.]\n",
      " [-3. -1.  0.  0.  4.]]\n"
     ]
    }
   ],
   "source": [
    "print(L @ U) # should equal the original A"
   ]
  },
  {
   "cell_type": "code",
   "execution_count": 9,
   "metadata": {},
   "outputs": [
    {
     "data": {
      "text/plain": [
       "True"
      ]
     },
     "execution_count": 9,
     "metadata": {},
     "output_type": "execute_result"
    }
   ],
   "source": [
    "# easier way to check if they are equal\n",
    "# https://numpy.org/doc/stable/reference/generated/numpy.allclose.html\n",
    "np.allclose(A, L @ U)"
   ]
  },
  {
   "cell_type": "code",
   "execution_count": 10,
   "metadata": {},
   "outputs": [
    {
     "data": {
      "text/plain": [
       "True"
      ]
     },
     "execution_count": 10,
     "metadata": {},
     "output_type": "execute_result"
    }
   ],
   "source": [
    "# compare to scipy.linalg built in function lu()\n",
    "# the permute keyword makes the result comparable to ours\n",
    "L_, U_ = sl.lu(A, permute_l=True)\n",
    "np.allclose(L, L_)\n",
    "np.allclose(U, U_)"
   ]
  },
  {
   "cell_type": "markdown",
   "metadata": {},
   "source": [
    "Next we need to solve for the unknowns $\\mathbf{c}$ given RHS vector $\\mathbf{b}$. Two steps: \n",
    "- Solve $\\mathbf{Ld} = \\mathbf{b}$ for the intermediate vector $\\mathbf{d}$ using forward substitution\n",
    "- Solve $\\mathbf{Ux} = \\mathbf{d}$ using back substitution"
   ]
  },
  {
   "cell_type": "code",
   "execution_count": 11,
   "metadata": {},
   "outputs": [
    {
     "name": "stdout",
     "output_type": "stream",
     "text": [
      "Our answer:  [11.509 11.509 19.057 16.998 11.509]\n",
      "Matches Scipy?  True\n"
     ]
    }
   ],
   "source": [
    "# forward substitution\n",
    "d = np.zeros(n)\n",
    "d[0] = b[0] / L[0,0]\n",
    "\n",
    "for i in range(1,n):\n",
    "    d[i] = (b[i] - L[i,:] @ d) / L[i,i]\n",
    "\n",
    "# back substitution\n",
    "x = np.zeros(n)\n",
    "x[-1] = d[-1] / U[-1,-1] # index -1 for last element\n",
    "\n",
    "for i in range(n-2,-1,-1): # loop backward starting from second-to-last row\n",
    "    x[i] = (d[i] - U[i,i+1:n] @ x[i+1:n]) / U[i,i]  \n",
    "\n",
    "print('Our answer: ', x)\n",
    "print('Matches Scipy? ', np.allclose(x, sl.solve(A,b)))"
   ]
  },
  {
   "cell_type": "markdown",
   "metadata": {},
   "source": [
    "Now if the input concentration $\\mathbf{b}$ changes, Gauss elimination would require the row elimination to be repeated with $O(n^3)$ operations. However, since we already have the LU decomposition, we only need to perform the forward/back substitution steps. This is $O(n^2)$ operations.\n",
    "\n",
    "For example, say concentration $c_{01}=20$ and $c_{03}=10$. Using mass balance, this would lead to a new vector $\\mathbf{b} = [100, 0, 80, 0, 0]^T$. We are only changing the inputs, so the matrix $\\mathbf{A}$ does not change."
   ]
  },
  {
   "cell_type": "code",
   "execution_count": 12,
   "metadata": {},
   "outputs": [
    {
     "name": "stdout",
     "output_type": "stream",
     "text": [
      "Our answer:  [18.491 18.491 10.943 13.002 18.491]\n",
      "Matches Scipy?  True\n"
     ]
    }
   ],
   "source": [
    "b2 = np.array([100, 0, 80, 0, 0]).T\n",
    "\n",
    "# repeat the steps above to solve (could write this in a function)\n",
    "\n",
    "# forward substitution\n",
    "d = np.zeros(n)\n",
    "d[0] = b2[0] / L[0,0]\n",
    "\n",
    "for i in range(1,n):\n",
    "    d[i] = (b2[i] - L[i,:] @ d) / L[i,i]\n",
    "\n",
    "# back substitution\n",
    "x = np.zeros(n)\n",
    "x[-1] = d[-1] / U[-1,-1] # index -1 for last element\n",
    "\n",
    "for i in range(n-2,-1,-1): # loop backward starting from second-to-last row\n",
    "    x[i] = (d[i] - U[i,i+1:n] @ x[i+1:n]) / U[i,i]  \n",
    "\n",
    "print('Our answer: ', x)\n",
    "print('Matches Scipy? ', np.allclose(x, sl.solve(A,b2)))"
   ]
  },
  {
   "cell_type": "markdown",
   "metadata": {},
   "source": [
    "The steady-state concentrations have increased in reactors 1, 2, and 5. The concentration has decreased in reactors 3 and 4. It would be difficult to guess this just by looking at the system diagram and flowrates. In the next lecture we will work on more formal ways to analyze the change in system states as a linear function of the forcing using the matrix inverse."
   ]
  },
  {
   "cell_type": "code",
   "execution_count": null,
   "metadata": {},
   "outputs": [],
   "source": []
  }
 ],
 "metadata": {
  "hide_input": false,
  "kernelspec": {
   "display_name": "Python 3 (ipykernel)",
   "language": "python",
   "name": "python3"
  },
  "language_info": {
   "codemirror_mode": {
    "name": "ipython",
    "version": 3
   },
   "file_extension": ".py",
   "mimetype": "text/x-python",
   "name": "python",
   "nbconvert_exporter": "python",
   "pygments_lexer": "ipython3",
   "version": "3.12.8"
  },
  "latex_envs": {
   "LaTeX_envs_menu_present": true,
   "autoclose": false,
   "autocomplete": true,
   "bibliofile": "biblio.bib",
   "cite_by": "apalike",
   "current_citInitial": 1,
   "eqLabelWithNumbers": true,
   "eqNumInitial": 1,
   "hotkeys": {
    "equation": "Ctrl-E",
    "itemize": "Ctrl-I"
   },
   "labels_anchors": false,
   "latex_user_defs": false,
   "report_style_numbering": false,
   "user_envs_cfg": false
  },
  "toc": {
   "base_numbering": 1,
   "nav_menu": {},
   "number_sections": true,
   "sideBar": true,
   "skip_h1_title": false,
   "title_cell": "Table of Contents",
   "title_sidebar": "Contents",
   "toc_cell": false,
   "toc_position": {},
   "toc_section_display": true,
   "toc_window_display": false
  },
  "varInspector": {
   "cols": {
    "lenName": "40",
    "lenType": 16,
    "lenVar": "100"
   },
   "kernels_config": {
    "python": {
     "delete_cmd_postfix": "",
     "delete_cmd_prefix": "del ",
     "library": "var_list.py",
     "varRefreshCmd": "print(var_dic_list())"
    },
    "r": {
     "delete_cmd_postfix": ") ",
     "delete_cmd_prefix": "rm(",
     "library": "var_list.r",
     "varRefreshCmd": "cat(var_dic_list()) "
    }
   },
   "types_to_exclude": [
    "module",
    "function",
    "builtin_function_or_method",
    "instance",
    "_Feature"
   ],
   "window_display": false
  }
 },
 "nbformat": 4,
 "nbformat_minor": 4
}
