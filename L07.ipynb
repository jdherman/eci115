{
 "cells": [
  {
   "cell_type": "markdown",
   "metadata": {},
   "source": [
    "#### Lecture 7 - Matrix inverse, iterative methods\n",
    "\n",
    "Matrix from C&C Case Study 12.1 - system of 5 reactors with unknown concentrations.\n",
    "\n",
    "- Find matrix inverse using LU, compare to scipy.linalg.inv\n",
    "- Interpret inverse coefficients as system response to forcing\n",
    "- Check the condition number\n",
    "- Check if diagonally dominant\n",
    "- Implement Gauss-Seidel and plot convergence "
   ]
  },
  {
   "cell_type": "code",
   "execution_count": 1,
   "metadata": {},
   "outputs": [],
   "source": [
    "import numpy as np\n",
    "import scipy.linalg as sl\n",
    "\n",
    "A = np.array([[6, 0, -1, 0, 0],\n",
    "              [-3, 3, 0, 0, 0],\n",
    "              [0, -1, 9, 0, 0],\n",
    "              [0, -1, -8, 11, -2],\n",
    "              [-3, -1, 0, 0, 4]])\n",
    "\n",
    "b = np.array([50, 0, 160, 0, 0]).T\n",
    "\n",
    "n = A.shape[0]"
   ]
  },
  {
   "cell_type": "code",
   "execution_count": 2,
   "metadata": {},
   "outputs": [
    {
     "name": "stdout",
     "output_type": "stream",
     "text": [
      "int64\n",
      "float64\n"
     ]
    }
   ],
   "source": [
    "# the values are entered as ints, change to floats\n",
    "print(A.dtype)\n",
    "A = A.astype(float)\n",
    "b = b.astype(float)\n",
    "print(A.dtype)"
   ]
  },
  {
   "cell_type": "code",
   "execution_count": 3,
   "metadata": {},
   "outputs": [],
   "source": [
    "# LU decomposition\n",
    "# this does not include partial pivoting and may encounter divide by zero errors\n",
    "# see C&C Figure 10.2 for pseudocode for LU with partial pivoting\n",
    "U = A.copy()\n",
    "L = np.eye(n)\n",
    "\n",
    "for k in range(n-1):\n",
    "    for i in range(k+1,n): \n",
    "        L[i,k] = U[i,k] / U[k,k] # multiplying factor\n",
    "        U[i,:] = U[i,:] - L[i,k] * U[k,:] # modify row i based on pivot row k"
   ]
  },
  {
   "cell_type": "markdown",
   "metadata": {},
   "source": [
    "##### Solve for matrix inverse using LU decomposition\n",
    "\n",
    "First we will write the forward/back substitution routine as a function, since we will call it many times while calculating the inverse."
   ]
  },
  {
   "cell_type": "code",
   "execution_count": 4,
   "metadata": {},
   "outputs": [],
   "source": [
    "# given L, U, b return x such that LUx = b\n",
    "def forward_back_sub(L, U, b):\n",
    "    d = np.zeros(n)\n",
    "    d[0] = b[0] / L[0,0]\n",
    "\n",
    "    for i in range(1,n):\n",
    "        d[i] = (b[i] - L[i,:] @ d) / L[i,i]\n",
    "\n",
    "    # back substitution\n",
    "    x = np.zeros(n)\n",
    "    x[-1] = d[-1] / U[-1,-1] # index -1 for last element\n",
    "\n",
    "    for i in range(n-2,-1,-1): # loop backward starting from second-to-last row\n",
    "        x[i] = (d[i] - U[i,i+1:n] @ x[i+1:n]) / U[i,i]  \n",
    "\n",
    "    return x"
   ]
  },
  {
   "cell_type": "markdown",
   "metadata": {},
   "source": [
    "Use this function to solve for each column of the inverse, setting the right-hand side to the column from the identity matrix. Note the original $\\mathbf{b}$ vector is not used here. The inverse only depends on $\\mathbf{A}$."
   ]
  },
  {
   "cell_type": "code",
   "execution_count": 5,
   "metadata": {},
   "outputs": [
    {
     "name": "stdout",
     "output_type": "stream",
     "text": [
      "[[0.17  0.006 0.019 0.    0.   ]\n",
      " [0.17  0.34  0.019 0.    0.   ]\n",
      " [0.019 0.038 0.113 0.    0.   ]\n",
      " [0.06  0.075 0.087 0.091 0.045]\n",
      " [0.17  0.09  0.019 0.    0.25 ]]\n",
      "Matches Scipy?  True\n"
     ]
    }
   ],
   "source": [
    "# solve for inverse using RHS columns from I\n",
    "I = np.eye(n)\n",
    "Ainv = np.zeros((n,n))\n",
    "for j in range(n):\n",
    "    Ainv[:,j] = forward_back_sub(L, U, I[:,j])\n",
    "\n",
    "np.set_printoptions(precision=3, suppress=True)\n",
    "print(Ainv)\n",
    "print('Matches Scipy? ', np.allclose(Ainv, sl.inv(A)))"
   ]
  },
  {
   "cell_type": "markdown",
   "metadata": {},
   "source": [
    "##### Interpreting inverse\n",
    "The coefficients from the inverse help us interpret the relationship between the forcing and the unknown system states. Last time we changed the input forcing $c_{01}=10$ to $c_{01}=20$ and solved again to find the unknown states. Here we can see that inverse coefficients $a_{ij}^{-1}$ represent the change in state variable $i$ per unit change in forcing $j$. \n",
    "\n",
    "This change in $c_{01}$ causes the first forcing element, $b_1 = Q_{01}c_{01}$, to change 50 units (note $Q_{01}=5$ is unchanged). So, we would expect the unknown $c_2$ to change by $0.17 (50) = 8.5$ units. The change in $c_3$ would be $0.019 (50) = 0.95$ units.\n",
    "\n",
    "This interpretation depends on the order of the equations in the original matrix, which is arbitrary depending how the state variables are numbered.\n",
    "\n"
   ]
  },
  {
   "cell_type": "markdown",
   "metadata": {},
   "source": [
    "##### Condition number"
   ]
  },
  {
   "cell_type": "code",
   "execution_count": 6,
   "metadata": {},
   "outputs": [
    {
     "data": {
      "text/plain": [
       "np.float64(10.548943021482339)"
      ]
     },
     "execution_count": 6,
     "metadata": {},
     "output_type": "execute_result"
    }
   ],
   "source": [
    "np.linalg.cond(A, 'fro') # use the Frobenius (Euclidean) norm"
   ]
  },
  {
   "cell_type": "code",
   "execution_count": 7,
   "metadata": {},
   "outputs": [
    {
     "data": {
      "text/plain": [
       "np.float64(10.548943021482339)"
      ]
     },
     "execution_count": 7,
     "metadata": {},
     "output_type": "execute_result"
    }
   ],
   "source": [
    "sl.norm(A) * sl.norm(Ainv) # should match"
   ]
  },
  {
   "cell_type": "markdown",
   "metadata": {},
   "source": [
    "The condition number is low. We are not concerned about a singular matrix. For an example of an ill-conditioned matrix, see below. The closer the value `1.00001` gets to 1, the higher the condition number will be, and the fewer digits of precision we will be able to trust in the result."
   ]
  },
  {
   "cell_type": "code",
   "execution_count": 8,
   "metadata": {},
   "outputs": [
    {
     "data": {
      "text/plain": [
       "np.float64(2020000.1999877666)"
      ]
     },
     "execution_count": 8,
     "metadata": {},
     "output_type": "execute_result"
    }
   ],
   "source": [
    "M = np.array([[10, 1], [10, 1.00001]])\n",
    "np.linalg.cond(M, 'fro')"
   ]
  },
  {
   "cell_type": "markdown",
   "metadata": {},
   "source": [
    "##### Is the matrix diagonally dominant?\n",
    "For every row, the magnitude of the main diagonal is greater than the sum of the magnitudes of all the other entries in that row. This will tell us if the Gauss-Seidel method will converge."
   ]
  },
  {
   "cell_type": "code",
   "execution_count": 9,
   "metadata": {},
   "outputs": [
    {
     "data": {
      "text/plain": [
       "np.False_"
      ]
     },
     "execution_count": 9,
     "metadata": {},
     "output_type": "execute_result"
    }
   ],
   "source": [
    "def is_diagonally_dominant(A):\n",
    "    diag = np.diag(np.abs(A))\n",
    "    rowsum = np.sum(np.abs(A), axis=1)\n",
    "    return np.all(diag > rowsum - diag)\n",
    "\n",
    "is_diagonally_dominant(A)"
   ]
  },
  {
   "cell_type": "markdown",
   "metadata": {},
   "source": [
    "Unfortunately, in this problem our matrix is not going to work with the Gauss-Seidel method. Let's use the other matrix from the book instead to illustrate the point."
   ]
  },
  {
   "cell_type": "code",
   "execution_count": 10,
   "metadata": {},
   "outputs": [
    {
     "data": {
      "text/plain": [
       "np.True_"
      ]
     },
     "execution_count": 10,
     "metadata": {},
     "output_type": "execute_result"
    }
   ],
   "source": [
    "A = np.array([[8, 3, -3], [-2, -8, 5], [3, 5, 10]])\n",
    "b = np.array([14, 5, -8]).T\n",
    "is_diagonally_dominant(A)"
   ]
  },
  {
   "cell_type": "markdown",
   "metadata": {},
   "source": [
    "##### Gauss-Seidel Iteration\n",
    "The error is defined by the norm of $\\mathbf{A}\\mathbf{x} - \\mathbf{b}$. Loop until tolerance `1e-8`."
   ]
  },
  {
   "cell_type": "code",
   "execution_count": 11,
   "metadata": {},
   "outputs": [],
   "source": [
    "n = 3\n",
    "x = np.zeros(n)\n",
    "err = 9999\n",
    "errors = []\n",
    "num_iter = 0\n",
    "\n",
    "while err > 1e-8:\n",
    "    for i in range(n): # loop over variables\n",
    "        x[i]  = (b[i] - A[i,:] @ x + A[i,i] * x[i]) / A[i,i]\n",
    "        # the summation is the full dot product minus the ith term\n",
    "        # so it gets added back in here\n",
    "\n",
    "    err = sl.norm(A @ x - b, 2) # Euclidean vector norm\n",
    "    errors.append(err) # store these for plotting\n",
    "    num_iter += 1"
   ]
  },
  {
   "cell_type": "code",
   "execution_count": 12,
   "metadata": {},
   "outputs": [
    {
     "data": {
      "image/png": "[encoded data removed]",
      "text/plain": [
       "<Figure size 1920x1440 with 1 Axes>"
      ]
     },
     "metadata": {},
     "output_type": "display_data"
    }
   ],
   "source": [
    "# plot convergence\n",
    "import matplotlib.pyplot as plt\n",
    "plt.rcParams['figure.dpi'] = 300\n",
    "\n",
    "plt.semilogy(errors)\n",
    "plt.xlabel('Iterations')\n",
    "plt.ylabel('Log Error (norm)')\n",
    "plt.show()"
   ]
  },
  {
   "cell_type": "markdown",
   "metadata": {},
   "source": [
    "Each iteration, $n$ variables are updated with a total of $n$ arithmetic operations each. If $k$ iterations are performed, the total operation count scales as $O(kn^2)$. Compared to Gauss elimination $O(n^3)$, this iterative method may be helpful in larger systems of equations where $k < n$. However, that is not the case here, where $n=3$ and $k=19$ iterations are needed to reach a tolerance of `1e-6`. "
   ]
  },
  {
   "cell_type": "code",
   "execution_count": null,
   "metadata": {},
   "outputs": [],
   "source": []
  }
 ],
 "metadata": {
  "hide_input": false,
  "kernelspec": {
   "display_name": "Python 3 (ipykernel)",
   "language": "python",
   "name": "python3"
  },
  "language_info": {
   "codemirror_mode": {
    "name": "ipython",
    "version": 3
   },
   "file_extension": ".py",
   "mimetype": "text/x-python",
   "name": "python",
   "nbconvert_exporter": "python",
   "pygments_lexer": "ipython3",
   "version": "3.12.8"
  },
  "latex_envs": {
   "LaTeX_envs_menu_present": true,
   "autoclose": false,
   "autocomplete": true,
   "bibliofile": "biblio.bib",
   "cite_by": "apalike",
   "current_citInitial": 1,
   "eqLabelWithNumbers": true,
   "eqNumInitial": 1,
   "hotkeys": {
    "equation": "Ctrl-E",
    "itemize": "Ctrl-I"
   },
   "labels_anchors": false,
   "latex_user_defs": false,
   "report_style_numbering": false,
   "user_envs_cfg": false
  },
  "toc": {
   "base_numbering": 1,
   "nav_menu": {},
   "number_sections": true,
   "sideBar": true,
   "skip_h1_title": false,
   "title_cell": "Table of Contents",
   "title_sidebar": "Contents",
   "toc_cell": false,
   "toc_position": {},
   "toc_section_display": true,
   "toc_window_display": false
  },
  "varInspector": {
   "cols": {
    "lenName": "40",
    "lenType": 16,
    "lenVar": "100"
   },
   "kernels_config": {
    "python": {
     "delete_cmd_postfix": "",
     "delete_cmd_prefix": "del ",
     "library": "var_list.py",
     "varRefreshCmd": "print(var_dic_list())"
    },
    "r": {
     "delete_cmd_postfix": ") ",
     "delete_cmd_prefix": "rm(",
     "library": "var_list.r",
     "varRefreshCmd": "cat(var_dic_list()) "
    }
   },
   "types_to_exclude": [
    "module",
    "function",
    "builtin_function_or_method",
    "instance",
    "_Feature"
   ],
   "window_display": false
  }
 },
 "nbformat": 4,
 "nbformat_minor": 4
}
